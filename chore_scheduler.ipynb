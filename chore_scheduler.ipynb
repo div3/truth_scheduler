{
 "cells": [
  {
   "cell_type": "code",
   "execution_count": 1,
   "metadata": {},
   "outputs": [],
   "source": [
    "import random\n",
    "import copy"
   ]
  },
  {
   "cell_type": "code",
   "execution_count": 2,
   "metadata": {},
   "outputs": [],
   "source": [
    "class Chore:\n",
    "    def __init__(self, name, day, times, duration):\n",
    "        self.name = name\n",
    "        self.time = times\n",
    "        self.day = day\n",
    "        self.duration = duration\n",
    "        self.assigned = None"
   ]
  },
  {
   "cell_type": "code",
   "execution_count": 3,
   "metadata": {},
   "outputs": [],
   "source": [
    "class Person:\n",
    "    def __init__(self, name, priority, availaibility, total_hours):\n",
    "        self.name = name\n",
    "        self.priority = priority\n",
    "        self.availaibility = availaibility\n",
    "        self.total_hours = total_hours"
   ]
  },
  {
   "cell_type": "code",
   "execution_count": 4,
   "metadata": {},
   "outputs": [],
   "source": [
    "# Example Chores\n",
    "brunch_clean_sunday = Chore(\"brunch_clean\", \"Sunday\", 1100, 60)  \n",
    "dinner_clean_monday = Chore(\"dinner_clean\", \"Monday\",2000, 60)\n",
    "upstairs_bathroom_tuesday = Chore(\"upstairs_bathroom\", \"Tuesday\", 0, 60)\n",
    "brunch_clean_monday = Chore(\"brunch_clean\", \"Monday\", 1100, 60)  \n",
    "dinner_clean_tuesday = Chore(\"dinner_clean\", \"Tuesday\",2000, 60)\n",
    "upstairs_bathroom_sunday = Chore(\"upstairs_bathroom\", \"Sunday\", 0, 60)"
   ]
  },
  {
   "cell_type": "code",
   "execution_count": 5,
   "metadata": {},
   "outputs": [],
   "source": [
    "# Example Person\n",
    "John = Person(\"John\", {\"brunch_clean\":1, \"dinner_clean\":2, \"upstairs_bathroom\":2},\n",
    "              {\"Sunday\": [{\"start\":1100, \"end\":1500}],\n",
    "               \"Monday\": [{\"start\":1900, \"end\":1950}, {\"start\":1700, \"end\":1900}],\n",
    "               \"Tuesday\": [{\"start\":1800, \"end\":2100}, {\"start\":1400, \"end\":1700}]}, 0)\n",
    "Jane = Person(\"Jane\", {\"brunch_clean\":2, \"dinner_clean\":1, \"upstairs_bathroom\":3}, \n",
    "              {\"Sunday\": [{\"start\":900, \"end\":1800}, {\"start\":2000, \"end\":2100}],\n",
    "               \"Monday\": [{\"start\":900, \"end\":1800}, {\"start\":2000, \"end\":2100}],\n",
    "               \"Tuesday\": [{\"start\":900, \"end\":1800}, {\"start\":2000, \"end\":2100}]}, 0)"
   ]
  },
  {
   "cell_type": "code",
   "execution_count": 8,
   "metadata": {},
   "outputs": [],
   "source": [
    "def assign_chores(chores, people, max_hours):\n",
    "    all_chores_eligible = list(people.keys())\n",
    "    for chore in chores:\n",
    "        this_chore_eligible = copy.deepcopy(all_chores_eligible)\n",
    "        random.shuffle(this_chore_eligible)\n",
    "        chore_start = chore.time\n",
    "        chore_end = chore_start + chore.duration\n",
    "        chore_day = chore.day\n",
    "    for person_name in this_chore_eligible:\n",
    "        person = people[person_name]\n",
    "        if chore_start != 0:\n",
    "            for times in person.availaibility[chore_day]:\n",
    "                if (chore_start >= times[\"start\"] and chore_end <= times[\"end\"]):\n",
    "                    assign_chore(person, chore)\n",
    "                    break\n",
    "        else:\n",
    "            for times in person.availaibility[chore_day]:\n",
    "                time_availaible = times[\"end\"] - times[\"start\"]\n",
    "                if (time_availaible >= chore.duration):\n",
    "                    assign_chore(person, chore)\n",
    "                    break\n",
    "        if (chore.assigned != None):\n",
    "            break\n",
    "    if (chore.assigned == None):\n",
    "        print(\"Could not find person for \", chore.name, \" on \", chore.day)\n",
    "\n",
    "def assign_chore(person, chore):\n",
    "    print(\"assigned \", chore.name, \" on \", chore.day, \" to \", person.name)\n",
    "    chore.assigned = person.name\n",
    "    person.total_hours += chore.duration"
   ]
  },
  {
   "cell_type": "code",
   "execution_count": null,
   "metadata": {},
   "outputs": [],
   "source": []
  }
 ],
 "metadata": {
  "kernelspec": {
   "display_name": "Python 3",
   "language": "python",
   "name": "python3"
  },
  "language_info": {
   "codemirror_mode": {
    "name": "ipython",
    "version": 3
   },
   "file_extension": ".py",
   "mimetype": "text/x-python",
   "name": "python",
   "nbconvert_exporter": "python",
   "pygments_lexer": "ipython3",
   "version": "3.6.4"
  }
 },
 "nbformat": 4,
 "nbformat_minor": 2
}
